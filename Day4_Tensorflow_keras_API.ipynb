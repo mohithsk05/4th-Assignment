{
 "cells": [
  {
   "cell_type": "markdown",
   "id": "6f86a07d",
   "metadata": {},
   "source": [
    "## Tensorflow"
   ]
  },
  {
   "cell_type": "code",
   "execution_count": 1,
   "id": "92fff205",
   "metadata": {},
   "outputs": [
    {
     "name": "stdout",
     "output_type": "stream",
     "text": [
      "2.19.0\n"
     ]
    }
   ],
   "source": [
    "import tensorflow as tf\n",
    "print(tf.__version__)"
   ]
  },
  {
   "cell_type": "markdown",
   "id": "2fc92412",
   "metadata": {},
   "source": [
    "## Creating Tensors"
   ]
  },
  {
   "cell_type": "code",
   "execution_count": 2,
   "id": "e9d14751",
   "metadata": {},
   "outputs": [],
   "source": [
    "x = tf.constant([\n",
    "    [3, 5, 7],\n",
    "    [4, 6, 8]\n",
    "])"
   ]
  },
  {
   "cell_type": "code",
   "execution_count": 3,
   "id": "1f96b68a",
   "metadata": {},
   "outputs": [
    {
     "data": {
      "text/plain": [
       "<tf.Tensor: shape=(2, 3), dtype=int32, numpy=\n",
       "array([[3, 5, 7],\n",
       "       [4, 6, 8]], dtype=int32)>"
      ]
     },
     "execution_count": 3,
     "metadata": {},
     "output_type": "execute_result"
    }
   ],
   "source": [
    "x"
   ]
  },
  {
   "cell_type": "code",
   "execution_count": 4,
   "id": "06853af6",
   "metadata": {},
   "outputs": [
    {
     "name": "stdout",
     "output_type": "stream",
     "text": [
      "tf.Tensor([[4.]], shape=(1, 1), dtype=float32)\n"
     ]
    }
   ],
   "source": [
    "x = tf.constant(4, shape=(1, 1), dtype=tf.float32)\n",
    "print(x)"
   ]
  },
  {
   "cell_type": "code",
   "execution_count": 5,
   "id": "dcdbc537",
   "metadata": {},
   "outputs": [
    {
     "name": "stdout",
     "output_type": "stream",
     "text": [
      "tf.Tensor(\n",
      "[[1 2 3]\n",
      " [4 5 6]], shape=(2, 3), dtype=int32)\n"
     ]
    }
   ],
   "source": [
    "x = tf.constant([[1, 2, 3], [4, 5, 6]], shape=(2, 3))\n",
    "print(x)"
   ]
  },
  {
   "cell_type": "code",
   "execution_count": 6,
   "id": "67314d8c",
   "metadata": {},
   "outputs": [
    {
     "name": "stdout",
     "output_type": "stream",
     "text": [
      "<tf.Variable 'Variable:0' shape=() dtype=string, numpy=b'this is a string'>\n",
      "<tf.Variable 'Variable:0' shape=() dtype=int32, numpy=324>\n",
      "<tf.Variable 'Variable:0' shape=() dtype=float32, numpy=3.566999912261963>\n"
     ]
    }
   ],
   "source": [
    "string = tf.Variable(\"this is a string\", tf.string)\n",
    "number = tf.Variable(324, tf.int16)\n",
    "floating = tf.Variable(3.567, tf.float64)\n",
    "print(string)\n",
    "print(number)\n",
    "print(floating)"
   ]
  },
  {
   "cell_type": "markdown",
   "id": "a661dacf",
   "metadata": {},
   "source": [
    "## Rank/Degree of Tensors"
   ]
  },
  {
   "cell_type": "code",
   "execution_count": 7,
   "id": "3d9ce78b",
   "metadata": {},
   "outputs": [],
   "source": [
    "rank1_tensor = tf.Variable([\"Test\"], tf.string)\n",
    "rank2_tensor = tf.Variable([[\"test\", \"ok\"], [\"test\", \"yes\"]], tf.string)"
   ]
  },
  {
   "cell_type": "code",
   "execution_count": 8,
   "id": "760b5f05",
   "metadata": {},
   "outputs": [
    {
     "data": {
      "text/plain": [
       "<tf.Tensor: shape=(), dtype=int32, numpy=2>"
      ]
     },
     "execution_count": 8,
     "metadata": {},
     "output_type": "execute_result"
    }
   ],
   "source": [
    "tf.rank(rank2_tensor)"
   ]
  },
  {
   "cell_type": "markdown",
   "id": "c8ed20d4",
   "metadata": {},
   "source": [
    "## Shape of Tensor"
   ]
  },
  {
   "cell_type": "code",
   "execution_count": 9,
   "id": "04fcfefc",
   "metadata": {},
   "outputs": [
    {
     "data": {
      "text/plain": [
       "TensorShape([2, 2])"
      ]
     },
     "execution_count": 9,
     "metadata": {},
     "output_type": "execute_result"
    }
   ],
   "source": [
    "rank2_tensor.shape"
   ]
  },
  {
   "cell_type": "markdown",
   "id": "b5ab9aa3",
   "metadata": {},
   "source": [
    "## changing the shape of Tensor"
   ]
  },
  {
   "cell_type": "code",
   "execution_count": 10,
   "id": "d3d78b8b",
   "metadata": {},
   "outputs": [],
   "source": [
    "tensor1 = tf.ones([1,2,3])  # tf.ones() creates a shape [1,2,3] tensor full of ones\n",
    "tensor2 = tf.reshape(tensor1, [2,3,1])  # reshape existing data to shape [2,3,1]\n",
    "tensor3 = tf.reshape(tensor2, [3, -1])  # -1 tells the tensor to calculate the size of the dimension in that place\n",
    "                                        # this will reshape the tensor to [3,3]"
   ]
  },
  {
   "cell_type": "code",
   "execution_count": 11,
   "id": "e6179342",
   "metadata": {},
   "outputs": [
    {
     "name": "stdout",
     "output_type": "stream",
     "text": [
      "tf.Tensor(\n",
      "[[[1. 1. 1.]\n",
      "  [1. 1. 1.]]], shape=(1, 2, 3), dtype=float32)\n"
     ]
    }
   ],
   "source": [
    "# The number of elements in the reshaped tensor MUST match the number in the original\n",
    "print(tensor1)"
   ]
  },
  {
   "cell_type": "code",
   "execution_count": 12,
   "id": "3fd627a7",
   "metadata": {},
   "outputs": [
    {
     "name": "stdout",
     "output_type": "stream",
     "text": [
      "tf.Tensor(\n",
      "[[[1.]\n",
      "  [1.]\n",
      "  [1.]]\n",
      "\n",
      " [[1.]\n",
      "  [1.]\n",
      "  [1.]]], shape=(2, 3, 1), dtype=float32)\n"
     ]
    }
   ],
   "source": [
    "print(tensor2)"
   ]
  },
  {
   "cell_type": "code",
   "execution_count": 13,
   "id": "f667fbe6",
   "metadata": {},
   "outputs": [
    {
     "name": "stdout",
     "output_type": "stream",
     "text": [
      "tf.Tensor(\n",
      "[[1. 1.]\n",
      " [1. 1.]\n",
      " [1. 1.]], shape=(3, 2), dtype=float32)\n"
     ]
    }
   ],
   "source": [
    "print(tensor3)"
   ]
  },
  {
   "cell_type": "code",
   "execution_count": 14,
   "id": "af524361",
   "metadata": {},
   "outputs": [],
   "source": [
    "# Creating a 2D tensor\n",
    "matrix = [[1,2,3,4,5],\n",
    "          [6,7,8,9,10],\n",
    "          [11,12,13,14,15],\n",
    "          [16,17,18,19,20]]\n",
    "\n",
    "tensor = tf.Variable(matrix, dtype=tf.int32)"
   ]
  },
  {
   "cell_type": "code",
   "execution_count": 15,
   "id": "a99d2885",
   "metadata": {},
   "outputs": [
    {
     "name": "stdout",
     "output_type": "stream",
     "text": [
      "tf.Tensor(2, shape=(), dtype=int32)\n"
     ]
    }
   ],
   "source": [
    "print(tf.rank(tensor))"
   ]
  },
  {
   "cell_type": "code",
   "execution_count": 16,
   "id": "9f7acecd",
   "metadata": {},
   "outputs": [
    {
     "name": "stdout",
     "output_type": "stream",
     "text": [
      "(4, 5)\n"
     ]
    }
   ],
   "source": [
    "print(tensor.shape)"
   ]
  },
  {
   "cell_type": "code",
   "execution_count": null,
   "id": "4bc31805",
   "metadata": {},
   "outputs": [],
   "source": []
  },
  {
   "cell_type": "markdown",
   "id": "0b5d8d30",
   "metadata": {},
   "source": [
    "## Tensor Slicing"
   ]
  },
  {
   "cell_type": "code",
   "execution_count": 17,
   "id": "898083e7",
   "metadata": {},
   "outputs": [],
   "source": [
    "y = x[:,1]"
   ]
  },
  {
   "cell_type": "code",
   "execution_count": 18,
   "id": "b2ce965b",
   "metadata": {},
   "outputs": [
    {
     "data": {
      "text/plain": [
       "<tf.Tensor: shape=(2,), dtype=int32, numpy=array([2, 5], dtype=int32)>"
      ]
     },
     "execution_count": 18,
     "metadata": {},
     "output_type": "execute_result"
    }
   ],
   "source": [
    "y"
   ]
  },
  {
   "cell_type": "code",
   "execution_count": 19,
   "id": "b893c7f5",
   "metadata": {},
   "outputs": [
    {
     "name": "stdout",
     "output_type": "stream",
     "text": [
      "tf.Tensor(3, shape=(), dtype=int32)\n"
     ]
    }
   ],
   "source": [
    "three = tensor[0,2]  # selects the 3rd element from the 1st row\n",
    "print(three) "
   ]
  },
  {
   "cell_type": "code",
   "execution_count": 20,
   "id": "34c739e4",
   "metadata": {},
   "outputs": [
    {
     "name": "stdout",
     "output_type": "stream",
     "text": [
      "tf.Tensor([1 2 3 4 5], shape=(5,), dtype=int32)\n"
     ]
    }
   ],
   "source": [
    "row1 = tensor[0] \n",
    "print(row1)"
   ]
  },
  {
   "cell_type": "code",
   "execution_count": 21,
   "id": "bd0b7021",
   "metadata": {},
   "outputs": [
    {
     "name": "stdout",
     "output_type": "stream",
     "text": [
      "tf.Tensor([ 1  6 11 16], shape=(4,), dtype=int32)\n"
     ]
    }
   ],
   "source": [
    "column1 = tensor[:, 0]  # selects the first column\n",
    "print(column1)"
   ]
  },
  {
   "cell_type": "code",
   "execution_count": 22,
   "id": "90d0d54b",
   "metadata": {},
   "outputs": [
    {
     "name": "stdout",
     "output_type": "stream",
     "text": [
      "tf.Tensor(\n",
      "[[ 6  7  8  9 10]\n",
      " [16 17 18 19 20]], shape=(2, 5), dtype=int32)\n"
     ]
    }
   ],
   "source": [
    "row_2_and_4 = tensor[1::2]  # selects second and fourth row\n",
    "print(row_2_and_4)"
   ]
  },
  {
   "cell_type": "code",
   "execution_count": 23,
   "id": "598f7c04",
   "metadata": {},
   "outputs": [
    {
     "name": "stdout",
     "output_type": "stream",
     "text": [
      "tf.Tensor([ 6 11], shape=(2,), dtype=int32)\n"
     ]
    }
   ],
   "source": [
    "column_1_in_row_2_and_3 = tensor[1:3, 0]\n",
    "print(column_1_in_row_2_and_3)"
   ]
  },
  {
   "cell_type": "markdown",
   "id": "96fb8ffa",
   "metadata": {},
   "source": [
    "## reshape"
   ]
  },
  {
   "cell_type": "code",
   "execution_count": 24,
   "id": "a29496e6",
   "metadata": {},
   "outputs": [],
   "source": [
    "y = tf.reshape(x, [3, 2])"
   ]
  },
  {
   "cell_type": "code",
   "execution_count": 25,
   "id": "0966dd96",
   "metadata": {},
   "outputs": [
    {
     "data": {
      "text/plain": [
       "<tf.Tensor: shape=(3, 2), dtype=int32, numpy=\n",
       "array([[1, 2],\n",
       "       [3, 4],\n",
       "       [5, 6]], dtype=int32)>"
      ]
     },
     "execution_count": 25,
     "metadata": {},
     "output_type": "execute_result"
    }
   ],
   "source": [
    "y"
   ]
  },
  {
   "cell_type": "markdown",
   "id": "ca211364",
   "metadata": {},
   "source": [
    "## Tensor operations"
   ]
  },
  {
   "cell_type": "code",
   "execution_count": 26,
   "id": "37c797d7",
   "metadata": {},
   "outputs": [
    {
     "name": "stdout",
     "output_type": "stream",
     "text": [
      "tf.Tensor(\n",
      "[[1. 0. 0.]\n",
      " [0. 1. 0.]\n",
      " [0. 0. 1.]], shape=(3, 3), dtype=float32)\n"
     ]
    }
   ],
   "source": [
    "# Identity Matrix\n",
    "x = tf.eye(3)\n",
    "print(x)"
   ]
  },
  {
   "cell_type": "code",
   "execution_count": 27,
   "id": "9c84950b",
   "metadata": {},
   "outputs": [
    {
     "name": "stdout",
     "output_type": "stream",
     "text": [
      "tf.Tensor(\n",
      "[[1. 1. 1.]\n",
      " [1. 1. 1.]\n",
      " [1. 1. 1.]\n",
      " [1. 1. 1.]], shape=(4, 3), dtype=float32)\n"
     ]
    }
   ],
   "source": [
    "# Matrix of ones\n",
    "x = tf.ones((4, 3))\n",
    "print(x)"
   ]
  },
  {
   "cell_type": "code",
   "execution_count": 28,
   "id": "57ebe8b9",
   "metadata": {},
   "outputs": [
    {
     "name": "stdout",
     "output_type": "stream",
     "text": [
      "tf.Tensor(\n",
      "[[[0. 0. 0. 0. 0.]\n",
      "  [0. 0. 0. 0. 0.]]\n",
      "\n",
      " [[0. 0. 0. 0. 0.]\n",
      "  [0. 0. 0. 0. 0.]]\n",
      "\n",
      " [[0. 0. 0. 0. 0.]\n",
      "  [0. 0. 0. 0. 0.]]], shape=(3, 2, 5), dtype=float32)\n"
     ]
    }
   ],
   "source": [
    "# Matrix of zeros\n",
    "x = tf.zeros((3, 2, 5))\n",
    "print(x)"
   ]
  },
  {
   "cell_type": "code",
   "execution_count": null,
   "id": "94338f62",
   "metadata": {},
   "outputs": [],
   "source": []
  },
  {
   "cell_type": "markdown",
   "id": "50e3aa02",
   "metadata": {},
   "source": [
    "## Variable tensor"
   ]
  },
  {
   "cell_type": "code",
   "execution_count": 29,
   "id": "98ee354d",
   "metadata": {},
   "outputs": [],
   "source": [
    "x = [2, 4]"
   ]
  },
  {
   "cell_type": "code",
   "execution_count": 30,
   "id": "d956cf10",
   "metadata": {},
   "outputs": [],
   "source": [
    "x = tf.Variable(2.0, dtype=tf.float32, name = 'my_variable')"
   ]
  },
  {
   "cell_type": "code",
   "execution_count": 31,
   "id": "873eeac3",
   "metadata": {},
   "outputs": [
    {
     "data": {
      "text/plain": [
       "<tf.Variable 'my_variable:0' shape=() dtype=float32, numpy=2.0>"
      ]
     },
     "execution_count": 31,
     "metadata": {},
     "output_type": "execute_result"
    }
   ],
   "source": [
    "x"
   ]
  },
  {
   "cell_type": "markdown",
   "id": "31054828",
   "metadata": {},
   "source": [
    "### tf.variables value can used for model weights as it needs to be changed during training"
   ]
  },
  {
   "cell_type": "code",
   "execution_count": 32,
   "id": "64f4fac3",
   "metadata": {},
   "outputs": [
    {
     "data": {
      "text/plain": [
       "<tf.Variable 'Variable:0' shape=(2, 1) dtype=float32, numpy=\n",
       "array([[1.],\n",
       "       [2.]], dtype=float32)>"
      ]
     },
     "execution_count": 32,
     "metadata": {},
     "output_type": "execute_result"
    }
   ],
   "source": [
    "w = tf.Variable([[1.], [2.]])\n",
    "w"
   ]
  },
  {
   "cell_type": "code",
   "execution_count": 33,
   "id": "4b133de0",
   "metadata": {},
   "outputs": [
    {
     "data": {
      "text/plain": [
       "<tf.Tensor: shape=(1, 2), dtype=float32, numpy=array([[3., 4.]], dtype=float32)>"
      ]
     },
     "execution_count": 33,
     "metadata": {},
     "output_type": "execute_result"
    }
   ],
   "source": [
    "x = tf.constant([[3., 4.]])\n",
    "x"
   ]
  },
  {
   "cell_type": "code",
   "execution_count": 34,
   "id": "7d274a73",
   "metadata": {},
   "outputs": [
    {
     "data": {
      "text/plain": [
       "<tf.Tensor: shape=(2, 2), dtype=float32, numpy=\n",
       "array([[3., 4.],\n",
       "       [6., 8.]], dtype=float32)>"
      ]
     },
     "execution_count": 34,
     "metadata": {},
     "output_type": "execute_result"
    }
   ],
   "source": [
    "tf.matmul(w, x)"
   ]
  },
  {
   "cell_type": "markdown",
   "id": "84f54e28",
   "metadata": {},
   "source": [
    "## Addition"
   ]
  },
  {
   "cell_type": "code",
   "execution_count": 35,
   "id": "c5c89414",
   "metadata": {},
   "outputs": [],
   "source": [
    "# Create tensors\n",
    "a = tf.constant([[1, 2], [3, 4]])\n",
    "b = tf.constant([[5, 6], [7, 8]])\n",
    "\n",
    "# Perform operations\n",
    "add = tf.add(a, b)\n",
    "matmul = tf.matmul(a, b)"
   ]
  },
  {
   "cell_type": "code",
   "execution_count": 36,
   "id": "356903fc",
   "metadata": {},
   "outputs": [
    {
     "name": "stdout",
     "output_type": "stream",
     "text": [
      "Matrix Multiplication:\n",
      " [[19 22]\n",
      " [43 50]]\n"
     ]
    }
   ],
   "source": [
    "#print(\"Addition:\\n\", add.numpy())\n",
    "print(\"Matrix Multiplication:\\n\", matmul.numpy())"
   ]
  },
  {
   "cell_type": "code",
   "execution_count": 37,
   "id": "5b96732f",
   "metadata": {},
   "outputs": [],
   "source": [
    "# Mathematical Operations\n",
    "x = tf.constant([1, 2, 3])\n",
    "y = tf.constant([9, 8, 7])\n",
    "\n",
    "# Two ways of addition\n",
    "#z = tf.add(x, y)\n",
    "z = x + y"
   ]
  },
  {
   "cell_type": "code",
   "execution_count": 38,
   "id": "0a5070f4",
   "metadata": {},
   "outputs": [
    {
     "name": "stdout",
     "output_type": "stream",
     "text": [
      "Adding [1 2 3] and [9 8 7] gives us [10 10 10]\n"
     ]
    }
   ],
   "source": [
    "print(f\"Adding {x.numpy()} and {y.numpy()} gives us {z.numpy()}\")"
   ]
  },
  {
   "cell_type": "code",
   "execution_count": 39,
   "id": "a42dd3bf",
   "metadata": {},
   "outputs": [
    {
     "data": {
      "text/plain": [
       "<tf.Tensor: shape=(3,), dtype=int32, numpy=array([10, 10, 10], dtype=int32)>"
      ]
     },
     "execution_count": 39,
     "metadata": {},
     "output_type": "execute_result"
    }
   ],
   "source": [
    "z"
   ]
  },
  {
   "cell_type": "code",
   "execution_count": 40,
   "id": "df41adc6",
   "metadata": {},
   "outputs": [
    {
     "name": "stdout",
     "output_type": "stream",
     "text": [
      "Subtracting [1 2 3] and [9 8 7] gives us [-8 -6 -4]\n"
     ]
    }
   ],
   "source": [
    "# Two ways of subtraction\n",
    "z = tf.subtract(x, y)\n",
    "z = x - y\n",
    "print(f\"Subtracting {x.numpy()} and {y.numpy()} gives us {z.numpy()}\")"
   ]
  },
  {
   "cell_type": "code",
   "execution_count": 41,
   "id": "e195333e",
   "metadata": {},
   "outputs": [
    {
     "name": "stdout",
     "output_type": "stream",
     "text": [
      "Dividing [1 2 3] and [9 8 7] gives us [0.11111111 0.25       0.42857143]\n"
     ]
    }
   ],
   "source": [
    "# Two ways of element-wise division\n",
    "z = tf.divide(x, y)\n",
    "z = x / y\n",
    "print(f\"Dividing {x.numpy()} and {y.numpy()} gives us {z.numpy()}\")"
   ]
  },
  {
   "cell_type": "code",
   "execution_count": 42,
   "id": "c37fdbd3",
   "metadata": {},
   "outputs": [
    {
     "name": "stdout",
     "output_type": "stream",
     "text": [
      "Multiplying [1 2 3] and [9 8 7] gives us [ 9 16 21]\n"
     ]
    }
   ],
   "source": [
    "# Two ways of element-wise multiplication\n",
    "z = tf.multiply(x, y)\n",
    "z = x * y\n",
    "print(f\"Multiplying {x.numpy()} and {y.numpy()} gives us {z.numpy()}\")"
   ]
  },
  {
   "cell_type": "code",
   "execution_count": 43,
   "id": "2aef3c27",
   "metadata": {},
   "outputs": [
    {
     "name": "stdout",
     "output_type": "stream",
     "text": [
      "The dot product of [1 2 3] and [9 8 7] gives us 46\n"
     ]
    }
   ],
   "source": [
    "# Dot-product\n",
    "z = tf.tensordot(x, y, axes=1)\n",
    "print(f\"The dot product of {x.numpy()} and {y.numpy()} gives us {z.numpy()}\")"
   ]
  },
  {
   "cell_type": "code",
   "execution_count": 44,
   "id": "940bd14d",
   "metadata": {},
   "outputs": [
    {
     "name": "stdout",
     "output_type": "stream",
     "text": [
      "[1 2 3] raised to the power of 5 gives us [  1  32 243]\n"
     ]
    }
   ],
   "source": [
    "# Exponentiation\n",
    "z = x ** 5\n",
    "print(f\"{x.numpy()} raised to the power of 5 gives us {z.numpy()}\")"
   ]
  },
  {
   "cell_type": "code",
   "execution_count": 45,
   "id": "ce5e5024",
   "metadata": {},
   "outputs": [],
   "source": [
    "# Matrix multiplication\n",
    "x = tf.random.normal((2, 3))\n",
    "y = tf.random.normal((3, 2))"
   ]
  },
  {
   "cell_type": "code",
   "execution_count": 46,
   "id": "3dfe2a77",
   "metadata": {},
   "outputs": [
    {
     "data": {
      "text/plain": [
       "<tf.Tensor: shape=(2, 3), dtype=float32, numpy=\n",
       "array([[-0.11710033, -0.37367678,  1.5018508 ],\n",
       "       [ 1.711929  ,  0.6649309 ,  0.77397794]], dtype=float32)>"
      ]
     },
     "execution_count": 46,
     "metadata": {},
     "output_type": "execute_result"
    }
   ],
   "source": [
    "x"
   ]
  },
  {
   "cell_type": "code",
   "execution_count": 47,
   "id": "f32b3978",
   "metadata": {},
   "outputs": [
    {
     "name": "stdout",
     "output_type": "stream",
     "text": [
      "Matrix multiplication of [[-0.11710033 -0.37367678  1.5018508 ]\n",
      " [ 1.711929    0.6649309   0.77397794]] and [[-1.0828966   0.4364309 ]\n",
      " [-0.69151634 -0.6365923 ]\n",
      " [-0.7275471  -0.2834725 ]] gives us [[-0.7074561  -0.23895985]\n",
      " [-2.8767579   0.10444732]]\n"
     ]
    }
   ],
   "source": [
    "# Two ways of matrix multiplication\n",
    "#z = tf.matmul(x, y)\n",
    "z = x @ y\n",
    "print(f\"Matrix multiplication of {x.numpy()} and {y.numpy()} gives us {z.numpy()}\")"
   ]
  },
  {
   "cell_type": "markdown",
   "id": "aa6952c5",
   "metadata": {},
   "source": [
    "## Indexing"
   ]
  },
  {
   "cell_type": "code",
   "execution_count": 48,
   "id": "f3385a73",
   "metadata": {},
   "outputs": [
    {
     "name": "stdout",
     "output_type": "stream",
     "text": [
      "tf.Tensor([0 1 1 2 3 1 2 3], shape=(8,), dtype=int32)\n",
      "tf.Tensor([1 1 2 3 1 2 3], shape=(7,), dtype=int32)\n",
      "tf.Tensor([1 1], shape=(2,), dtype=int32)\n",
      "tf.Tensor([0 1 3 2], shape=(4,), dtype=int32)\n",
      "tf.Tensor([3 2 1 3 2 1 1 0], shape=(8,), dtype=int32)\n"
     ]
    }
   ],
   "source": [
    "# Indexing in a vector\n",
    "x = tf.constant([0, 1, 1, 2, 3, 1, 2, 3])\n",
    "print(x[:])\n",
    "print(x[1:])\n",
    "print(x[1:3])\n",
    "print(x[::2])\n",
    "print(x[::-1])"
   ]
  },
  {
   "cell_type": "code",
   "execution_count": 49,
   "id": "688536dd",
   "metadata": {},
   "outputs": [],
   "source": [
    "# Get values at specific indices in a tensor\n",
    "indices = tf.constant([0, 3])\n",
    "x_indices = tf.gather(x, indices)"
   ]
  },
  {
   "cell_type": "code",
   "execution_count": 50,
   "id": "fe846f17",
   "metadata": {},
   "outputs": [
    {
     "name": "stdout",
     "output_type": "stream",
     "text": [
      "tf.Tensor([1 2], shape=(2,), dtype=int32)\n",
      "tf.Tensor(\n",
      "[[1 2]\n",
      " [3 4]], shape=(2, 2), dtype=int32)\n"
     ]
    }
   ],
   "source": [
    "# Indexing in a matrix\n",
    "x = tf.constant([[1, 2], [3, 4], [5, 6]])\n",
    "print(x[0, :])\n",
    "print(x[0:2, :])"
   ]
  },
  {
   "cell_type": "code",
   "execution_count": 51,
   "id": "a2938d2a",
   "metadata": {},
   "outputs": [],
   "source": [
    "# Reshaping\n",
    "x = tf.range(9)\n",
    "x = tf.reshape(x, (3, 3))\n",
    "x = tf.transpose(x, perm=[1, 0])"
   ]
  },
  {
   "cell_type": "markdown",
   "id": "f20869f0",
   "metadata": {},
   "source": [
    "## Tensor generation"
   ]
  },
  {
   "cell_type": "code",
   "execution_count": 52,
   "id": "28ea34f5",
   "metadata": {},
   "outputs": [
    {
     "name": "stdout",
     "output_type": "stream",
     "text": [
      "tf.Tensor(\n",
      "[[0.02195144 0.2944616 ]\n",
      " [0.6876229  0.039554  ]], shape=(2, 2), dtype=float32)\n"
     ]
    }
   ],
   "source": [
    "x = tf.random.uniform((2, 2), minval=0, maxval=1)\n",
    "print(x)"
   ]
  },
  {
   "cell_type": "code",
   "execution_count": 53,
   "id": "bbaf9438",
   "metadata": {},
   "outputs": [
    {
     "name": "stdout",
     "output_type": "stream",
     "text": [
      "tf.Tensor(\n",
      "[[-0.98535603 -0.48350385]\n",
      " [ 0.2384888   1.6592128 ]], shape=(2, 2), dtype=float32)\n"
     ]
    }
   ],
   "source": [
    "x = tf.random.normal((2, 2), mean=0, stddev=1)\n",
    "print(x)"
   ]
  },
  {
   "cell_type": "code",
   "execution_count": 54,
   "id": "a74e79b1",
   "metadata": {},
   "outputs": [
    {
     "name": "stdout",
     "output_type": "stream",
     "text": [
      "tf.Tensor([0 1 2 3 4 5 6 7 8], shape=(9,), dtype=int32)\n"
     ]
    }
   ],
   "source": [
    "# Constructing a tensor with range limits and step values\n",
    "x = tf.range(9)\n",
    "print(x)"
   ]
  },
  {
   "cell_type": "code",
   "execution_count": 55,
   "id": "1b99a5b9",
   "metadata": {},
   "outputs": [
    {
     "name": "stdout",
     "output_type": "stream",
     "text": [
      "tf.Tensor([0 2 4 6 8], shape=(5,), dtype=int32)\n"
     ]
    }
   ],
   "source": [
    "x = tf.range(start=0, limit=10, delta=2)\n",
    "print(x)"
   ]
  },
  {
   "cell_type": "markdown",
   "id": "660dff88",
   "metadata": {},
   "source": [
    "## Automatic Differentiation\n",
    "\n",
    "The easiest way to use the automatic differentiation engine is with tf.GradientTape.\n",
    "\n",
    "Suppose we want to find the gradient of a function func when given input x.\n",
    "\n",
    "    Call y = func(x) in a with tf.GradientTape() as tape: block.\n",
    "    Compute the gradients with tape.gradient(y, x).\n",
    "\n",
    "For example:"
   ]
  },
  {
   "cell_type": "code",
   "execution_count": 56,
   "id": "fdc4a1d5",
   "metadata": {},
   "outputs": [],
   "source": [
    "def func(x):\n",
    "  return 3*x*x + 2*x"
   ]
  },
  {
   "cell_type": "code",
   "execution_count": 57,
   "id": "06f5ae0f",
   "metadata": {},
   "outputs": [],
   "source": [
    "def manual_grad_func(x):\n",
    "  return 6*x + 2"
   ]
  },
  {
   "cell_type": "code",
   "execution_count": 58,
   "id": "b7e4b507",
   "metadata": {},
   "outputs": [],
   "source": [
    "def auto_grad_func(x):\n",
    "  x = tf.Variable(x, dtype=tf.float32)\n",
    "  with tf.GradientTape() as tape:\n",
    "    y = func(x)\n",
    "  return tape.gradient(y, x)"
   ]
  },
  {
   "cell_type": "code",
   "execution_count": 59,
   "id": "6cc7fb5c",
   "metadata": {},
   "outputs": [
    {
     "name": "stdout",
     "output_type": "stream",
     "text": [
      "x = 2\n",
      "Expected f'(x): 14\n",
      "Computed f'(x): 14.0\n"
     ]
    }
   ],
   "source": [
    "x = 2\n",
    "print(f'x = {x}')\n",
    "print(f'Expected f\\'(x): {manual_grad_func(x)}')\n",
    "print(f'Computed f\\'(x): {auto_grad_func(x)}')"
   ]
  },
  {
   "cell_type": "code",
   "execution_count": 60,
   "id": "4e8c6819",
   "metadata": {},
   "outputs": [
    {
     "name": "stdout",
     "output_type": "stream",
     "text": [
      "Zeros tensor:\n",
      " [[0. 0. 0.]\n",
      " [0. 0. 0.]]\n",
      "\n",
      "Ones tensor:\n",
      " [[1. 1.]\n",
      " [1. 1.]\n",
      " [1. 1.]]\n",
      "\n",
      "Fill tensor:\n",
      " [[5 5]\n",
      " [5 5]]\n",
      "\n",
      "Random normal tensor:\n",
      " [[ 0.50651807 -1.5786793   1.6677768 ]\n",
      " [ 0.7157193  -0.13231644  0.6887781 ]\n",
      " [ 1.657875    1.7822875  -1.3160458 ]]\n",
      "\n",
      "Range tensor:\n",
      " [0 2 4 6 8]\n"
     ]
    }
   ],
   "source": [
    "# Various tensor creation methods\n",
    "zeros_tensor = tf.zeros([2, 3])\n",
    "ones_tensor = tf.ones([3, 2])\n",
    "fill_tensor = tf.fill([2, 2], 5)\n",
    "random_tensor = tf.random.normal([3, 3], mean=0, stddev=1)\n",
    "range_tensor = tf.range(0, 10, delta=2)\n",
    "\n",
    "print(\"Zeros tensor:\\n\", zeros_tensor.numpy())\n",
    "print(\"\\nOnes tensor:\\n\", ones_tensor.numpy())\n",
    "print(\"\\nFill tensor:\\n\", fill_tensor.numpy())\n",
    "print(\"\\nRandom normal tensor:\\n\", random_tensor.numpy())\n",
    "print(\"\\nRange tensor:\\n\", range_tensor.numpy())"
   ]
  },
  {
   "cell_type": "code",
   "execution_count": 61,
   "id": "fafddae8",
   "metadata": {},
   "outputs": [
    {
     "name": "stdout",
     "output_type": "stream",
     "text": [
      "First row: [1 2 3]\n",
      "Last column: [3 6 9]\n",
      "Center element: 5\n",
      "2x2 sub-tensor:\n",
      " [[1 2]\n",
      " [4 5]]\n"
     ]
    }
   ],
   "source": [
    "# Create a tensor\n",
    "tensor = tf.constant([[1, 2, 3], [4, 5, 6], [7, 8, 9]])\n",
    "\n",
    "# Indexing and slicing\n",
    "print(\"First row:\", tensor[0].numpy())\n",
    "print(\"Last column:\", tensor[:, -1].numpy())\n",
    "print(\"Center element:\", tensor[1, 1].numpy())\n",
    "print(\"2x2 sub-tensor:\\n\", tensor[:2, :2].numpy())"
   ]
  },
  {
   "cell_type": "code",
   "execution_count": 62,
   "id": "68309627",
   "metadata": {},
   "outputs": [
    {
     "name": "stdout",
     "output_type": "stream",
     "text": [
      "Original tensor: [ 0  1  2  3  4  5  6  7  8  9 10 11]\n",
      "Reshaped tensor:\n",
      " [[ 0  1  2  3]\n",
      " [ 4  5  6  7]\n",
      " [ 8  9 10 11]]\n",
      "\n",
      "Broadcasting result:\n",
      " [[2 3 4]\n",
      " [3 4 5]\n",
      " [4 5 6]]\n"
     ]
    }
   ],
   "source": [
    "# Reshape a tensor\n",
    "original = tf.range(12)\n",
    "reshaped = tf.reshape(original, [3, 4])\n",
    "\n",
    "# Broadcasting example\n",
    "a = tf.constant([[1, 2, 3]])\n",
    "b = tf.constant([[1], [2], [3]])\n",
    "result = a + b  # Broadcasting happens here\n",
    "\n",
    "print(\"Original tensor:\", original.numpy())\n",
    "print(\"Reshaped tensor:\\n\", reshaped.numpy())\n",
    "print(\"\\nBroadcasting result:\\n\", result.numpy())"
   ]
  },
  {
   "cell_type": "markdown",
   "id": "3f9fbd89",
   "metadata": {},
   "source": [
    "## example"
   ]
  },
  {
   "cell_type": "code",
   "execution_count": 68,
   "id": "74fbbbb8",
   "metadata": {},
   "outputs": [],
   "source": [
    "    # Generate synthetic data\n",
    "    import numpy as np\n",
    "    X_train = np.random.random((800, 10))\n",
    "    y_train = np.random.randint(2, size=(800, 1))\n",
    "    X_test = np.random.random((200, 10))\n",
    "    y_test = np.random.randint(2, size=(200, 1))"
   ]
  },
  {
   "cell_type": "code",
   "execution_count": 69,
   "id": "41f554ab",
   "metadata": {},
   "outputs": [
    {
     "data": {
      "image/png": "[encoded data removed]",
      "text/plain": [
       "<Figure size 1000x400 with 1 Axes>"
      ]
     },
     "metadata": {},
     "output_type": "display_data"
    }
   ],
   "source": [
    "import numpy as np\n",
    "import matplotlib.pyplot as plt\n",
    "\n",
    "# Data\n",
    "X_train = np.random.random((800, 10))\n",
    "y_train = np.random.randint(2, size=(800, 1))\n",
    "\n",
    "# Simple plot of y_train\n",
    "plt.figure(figsize=(10, 4))\n",
    "plt.plot(y_train, 'o', alpha=0.6)\n",
    "plt.title(\"y_train values across samples\")\n",
    "plt.xlabel(\"Sample index\")\n",
    "plt.ylabel(\"Class label (0 or 1)\")\n",
    "plt.grid(True)\n",
    "plt.tight_layout()\n",
    "plt.show()\n"
   ]
  },
  {
   "cell_type": "code",
   "execution_count": 70,
   "id": "95aa192d",
   "metadata": {},
   "outputs": [
    {
     "data": {
      "image/png": "[encoded data removed]",
      "text/plain": [
       "<Figure size 640x480 with 1 Axes>"
      ]
     },
     "metadata": {},
     "output_type": "display_data"
    }
   ],
   "source": [
    "plt.hist(y_train, bins=[-0.5, 0.5, 1.5], edgecolor='black', rwidth=0.7)\n",
    "plt.xticks([0, 1])\n",
    "plt.title(\"Class Distribution in y_train\")\n",
    "plt.xlabel(\"Class Label\")\n",
    "plt.ylabel(\"Count\")\n",
    "plt.show()\n"
   ]
  },
  {
   "cell_type": "code",
   "execution_count": 71,
   "id": "4f624336",
   "metadata": {},
   "outputs": [],
   "source": [
    "    # Create and compile a model\n",
    "    model = tf.keras.Sequential([\n",
    "        tf.keras.layers.Dense(64, activation='relu', input_shape=(10,)),\n",
    "        tf.keras.layers.Dense(1, activation='sigmoid')\n",
    "    ])\n",
    "    "
   ]
  },
  {
   "cell_type": "code",
   "execution_count": 72,
   "id": "73e2d0ba",
   "metadata": {},
   "outputs": [],
   "source": [
    "    model.compile(\n",
    "        optimizer='adam',\n",
    "        loss='binary_crossentropy',\n",
    "        metrics=['accuracy']\n",
    "    )"
   ]
  },
  {
   "cell_type": "code",
   "execution_count": 73,
   "id": "bba88fe7",
   "metadata": {},
   "outputs": [
    {
     "name": "stdout",
     "output_type": "stream",
     "text": [
      "Epoch 1/5\n",
      "\u001b[1m25/25\u001b[0m \u001b[32m━━━━━━━━━━━━━━━━━━━━\u001b[0m\u001b[37m\u001b[0m \u001b[1m1s\u001b[0m 3ms/step - accuracy: 0.4777 - loss: 0.6971\n",
      "Epoch 2/5\n",
      "\u001b[1m25/25\u001b[0m \u001b[32m━━━━━━━━━━━━━━━━━━━━\u001b[0m\u001b[37m\u001b[0m \u001b[1m0s\u001b[0m 3ms/step - accuracy: 0.5111 - loss: 0.6931\n",
      "Epoch 3/5\n",
      "\u001b[1m25/25\u001b[0m \u001b[32m━━━━━━━━━━━━━━━━━━━━\u001b[0m\u001b[37m\u001b[0m \u001b[1m0s\u001b[0m 3ms/step - accuracy: 0.5080 - loss: 0.6934\n",
      "Epoch 4/5\n",
      "\u001b[1m25/25\u001b[0m \u001b[32m━━━━━━━━━━━━━━━━━━━━\u001b[0m\u001b[37m\u001b[0m \u001b[1m0s\u001b[0m 3ms/step - accuracy: 0.5210 - loss: 0.6922\n",
      "Epoch 5/5\n",
      "\u001b[1m25/25\u001b[0m \u001b[32m━━━━━━━━━━━━━━━━━━━━\u001b[0m\u001b[37m\u001b[0m \u001b[1m0s\u001b[0m 4ms/step - accuracy: 0.5569 - loss: 0.6855\n"
     ]
    },
    {
     "data": {
      "text/plain": [
       "<keras.src.callbacks.history.History at 0x189a6ffbb80>"
      ]
     },
     "execution_count": 73,
     "metadata": {},
     "output_type": "execute_result"
    }
   ],
   "source": [
    "    # Train the model\n",
    "    model.fit(X_train, y_train, epochs=5, batch_size=32, verbose=True)"
   ]
  },
  {
   "cell_type": "code",
   "execution_count": 74,
   "id": "e46dc334",
   "metadata": {},
   "outputs": [
    {
     "name": "stdout",
     "output_type": "stream",
     "text": [
      "Test Loss: 0.6942, Test Accuracy: 0.5300\n"
     ]
    }
   ],
   "source": [
    "    # Evaluate on test data\n",
    "    loss, accuracy = model.evaluate(X_test, y_test, verbose=0)\n",
    "    print(f\"Test Loss: {loss:.4f}, Test Accuracy: {accuracy:.4f}\")"
   ]
  },
  {
   "cell_type": "code",
   "execution_count": 75,
   "id": "ccc1d151",
   "metadata": {},
   "outputs": [
    {
     "name": "stdout",
     "output_type": "stream",
     "text": [
      "\u001b[1m1/1\u001b[0m \u001b[32m━━━━━━━━━━━━━━━━━━━━\u001b[0m\u001b[37m\u001b[0m \u001b[1m0s\u001b[0m 77ms/step\n",
      "Sample predictions:\\n [[0.5143441 ]\n",
      " [0.49506244]\n",
      " [0.5347619 ]\n",
      " [0.46899313]\n",
      " [0.44915742]]\n"
     ]
    }
   ],
   "source": [
    "    # Make predictions\n",
    "    predictions = model.predict(X_test[:5])\n",
    "    print(\"Sample predictions:\\\\n\", predictions)"
   ]
  },
  {
   "cell_type": "code",
   "execution_count": null,
   "id": "5b7cefad",
   "metadata": {},
   "outputs": [],
   "source": []
  },
  {
   "cell_type": "markdown",
   "id": "9c1f327f",
   "metadata": {},
   "source": [
    "## TensorFlow 2.x MNIST Classification with DNN (Only Dense Layers)"
   ]
  },
  {
   "cell_type": "code",
   "execution_count": 2,
   "id": "4c030be8",
   "metadata": {},
   "outputs": [],
   "source": [
    "import tensorflow as tf\n",
    "from tensorflow.keras import layers, models\n",
    "import matplotlib.pyplot as plt\n",
    "import numpy as np"
   ]
  },
  {
   "cell_type": "code",
   "execution_count": 3,
   "id": "2e4cf727",
   "metadata": {},
   "outputs": [],
   "source": [
    "# Load and preprocess data\n",
    "(train_images, train_labels), (test_images, test_labels) = tf.keras.datasets.mnist.load_data()\n",
    "train_images = train_images.reshape((60000, 28*28)) / 255.0 \n",
    "test_images = test_images.reshape((10000, 28*28)) / 255.0"
   ]
  },
  {
   "cell_type": "code",
   "execution_count": 4,
   "id": "42121402",
   "metadata": {},
   "outputs": [
    {
     "data": {
      "image/png": "[encoded data removed]",
      "text/plain": [
       "<Figure size 1000x500 with 20 Axes>"
      ]
     },
     "metadata": {},
     "output_type": "display_data"
    }
   ],
   "source": [
    "plt.figure(figsize=(10, 5))\n",
    "for i in range(20):\n",
    "    plt.subplot(4, 5, i+1)\n",
    "    plt.imshow(train_images[i].reshape(28, 28), cmap='gray')\n",
    "    plt.title(f\"Label: {train_labels[i]}\")\n",
    "    plt.axis('off')\n",
    "plt.suptitle('Sample MNIST Images with Labels', y=1.02)\n",
    "plt.tight_layout()\n",
    "plt.show()"
   ]
  },
  {
   "cell_type": "code",
   "execution_count": 5,
   "id": "7e58c389",
   "metadata": {},
   "outputs": [
    {
     "data": {
      "image/png": "[encoded data removed]",
      "text/plain": [
       "<Figure size 800x400 with 1 Axes>"
      ]
     },
     "metadata": {},
     "output_type": "display_data"
    }
   ],
   "source": [
    "plt.figure(figsize=(8, 4))\n",
    "plt.hist(train_labels, bins=10, rwidth=0.8, alpha=0.7)\n",
    "plt.xticks(range(10))\n",
    "plt.title('Distribution of Labels in Training Set')\n",
    "plt.xlabel('Digit Class')\n",
    "plt.ylabel('Count')\n",
    "plt.grid(axis='y', alpha=0.3)\n",
    "plt.show()"
   ]
  },
  {
   "cell_type": "code",
   "execution_count": 26,
   "id": "20694dad",
   "metadata": {},
   "outputs": [],
   "source": [
    "model = models.Sequential([\n",
    "    layers.Dense(512, activation='relu', input_shape=(28*28,)),\n",
    "    layers.BatchNormalization(),\n",
    "    layers.Dropout(0.3),\n",
    "\n",
    "    layers.Dense(256, activation='relu'),\n",
    "    layers.BatchNormalization(),\n",
    "    layers.Dropout(0.2),\n",
    "\n",
    "    layers.Dense(128, activation='relu'),\n",
    "    layers.BatchNormalization(),\n",
    "    layers.Dropout(0.2),\n",
    "\n",
    "    layers.Dense(10, activation='softmax')\n",
    "])\n"
   ]
  },
  {
   "cell_type": "code",
   "execution_count": 27,
   "id": "4b244f8a",
   "metadata": {},
   "outputs": [],
   "source": [
    "from tensorflow.keras.optimizers import AdamW\n",
    "\n",
    "optimizer = AdamW(learning_rate=0.001, weight_decay=1e-5)\n",
    "\n",
    "model.compile(optimizer=optimizer,\n",
    "              loss='sparse_categorical_crossentropy',\n",
    "              metrics=['accuracy'])"
   ]
  },
  {
   "cell_type": "code",
   "execution_count": 30,
   "id": "816cc158",
   "metadata": {},
   "outputs": [
    {
     "name": "stdout",
     "output_type": "stream",
     "text": [
      "Epoch 1/100\n",
      "\u001b[1m469/469\u001b[0m \u001b[32m━━━━━━━━━━━━━━━━━━━━\u001b[0m\u001b[37m\u001b[0m \u001b[1m7s\u001b[0m 14ms/step - accuracy: 0.9963 - loss: 0.0112 - val_accuracy: 0.9862 - val_loss: 0.0492 - learning_rate: 1.2500e-04\n",
      "Epoch 2/100\n",
      "\u001b[1m469/469\u001b[0m \u001b[32m━━━━━━━━━━━━━━━━━━━━\u001b[0m\u001b[37m\u001b[0m \u001b[1m7s\u001b[0m 16ms/step - accuracy: 0.9968 - loss: 0.0096 - val_accuracy: 0.9866 - val_loss: 0.0502 - learning_rate: 1.2500e-04\n",
      "Epoch 3/100\n",
      "\u001b[1m469/469\u001b[0m \u001b[32m━━━━━━━━━━━━━━━━━━━━\u001b[0m\u001b[37m\u001b[0m \u001b[1m8s\u001b[0m 18ms/step - accuracy: 0.9970 - loss: 0.0087 - val_accuracy: 0.9871 - val_loss: 0.0493 - learning_rate: 1.2500e-04\n",
      "Epoch 4/100\n",
      "\u001b[1m469/469\u001b[0m \u001b[32m━━━━━━━━━━━━━━━━━━━━\u001b[0m\u001b[37m\u001b[0m \u001b[1m6s\u001b[0m 13ms/step - accuracy: 0.9978 - loss: 0.0066 - val_accuracy: 0.9870 - val_loss: 0.0498 - learning_rate: 1.2500e-04\n",
      "Epoch 5/100\n",
      "\u001b[1m469/469\u001b[0m \u001b[32m━━━━━━━━━━━━━━━━━━━━\u001b[0m\u001b[37m\u001b[0m \u001b[1m6s\u001b[0m 14ms/step - accuracy: 0.9979 - loss: 0.0059 - val_accuracy: 0.9870 - val_loss: 0.0500 - learning_rate: 1.2500e-04\n",
      "Epoch 6/100\n",
      "\u001b[1m467/469\u001b[0m \u001b[32m━━━━━━━━━━━━━━━━━━━\u001b[0m\u001b[37m━\u001b[0m \u001b[1m0s\u001b[0m 12ms/step - accuracy: 0.9973 - loss: 0.0069\n",
      "Epoch 6: ReduceLROnPlateau reducing learning rate to 6.25000029685907e-05.\n",
      "\u001b[1m469/469\u001b[0m \u001b[32m━━━━━━━━━━━━━━━━━━━━\u001b[0m\u001b[37m\u001b[0m \u001b[1m6s\u001b[0m 14ms/step - accuracy: 0.9973 - loss: 0.0069 - val_accuracy: 0.9879 - val_loss: 0.0492 - learning_rate: 1.2500e-04\n",
      "Epoch 7/100\n",
      "\u001b[1m469/469\u001b[0m \u001b[32m━━━━━━━━━━━━━━━━━━━━\u001b[0m\u001b[37m\u001b[0m \u001b[1m7s\u001b[0m 14ms/step - accuracy: 0.9981 - loss: 0.0065 - val_accuracy: 0.9873 - val_loss: 0.0488 - learning_rate: 6.2500e-05\n",
      "Epoch 8/100\n",
      "\u001b[1m469/469\u001b[0m \u001b[32m━━━━━━━━━━━━━━━━━━━━\u001b[0m\u001b[37m\u001b[0m \u001b[1m6s\u001b[0m 13ms/step - accuracy: 0.9980 - loss: 0.0061 - val_accuracy: 0.9877 - val_loss: 0.0492 - learning_rate: 6.2500e-05\n",
      "Epoch 9/100\n",
      "\u001b[1m469/469\u001b[0m \u001b[32m━━━━━━━━━━━━━━━━━━━━\u001b[0m\u001b[37m\u001b[0m \u001b[1m6s\u001b[0m 13ms/step - accuracy: 0.9984 - loss: 0.0054 - val_accuracy: 0.9875 - val_loss: 0.0497 - learning_rate: 6.2500e-05\n",
      "Epoch 10/100\n",
      "\u001b[1m469/469\u001b[0m \u001b[32m━━━━━━━━━━━━━━━━━━━━\u001b[0m\u001b[37m\u001b[0m \u001b[1m7s\u001b[0m 15ms/step - accuracy: 0.9978 - loss: 0.0058 - val_accuracy: 0.9876 - val_loss: 0.0493 - learning_rate: 6.2500e-05\n",
      "Epoch 11/100\n",
      "\u001b[1m469/469\u001b[0m \u001b[32m━━━━━━━━━━━━━━━━━━━━\u001b[0m\u001b[37m\u001b[0m \u001b[1m7s\u001b[0m 14ms/step - accuracy: 0.9986 - loss: 0.0048 - val_accuracy: 0.9877 - val_loss: 0.0496 - learning_rate: 6.2500e-05\n",
      "Epoch 12/100\n",
      "\u001b[1m469/469\u001b[0m \u001b[32m━━━━━━━━━━━━━━━━━━━━\u001b[0m\u001b[37m\u001b[0m \u001b[1m0s\u001b[0m 13ms/step - accuracy: 0.9986 - loss: 0.0044\n",
      "Epoch 12: ReduceLROnPlateau reducing learning rate to 3.125000148429535e-05.\n",
      "\u001b[1m469/469\u001b[0m \u001b[32m━━━━━━━━━━━━━━━━━━━━\u001b[0m\u001b[37m\u001b[0m \u001b[1m7s\u001b[0m 14ms/step - accuracy: 0.9986 - loss: 0.0044 - val_accuracy: 0.9877 - val_loss: 0.0497 - learning_rate: 6.2500e-05\n",
      "Epoch 13/100\n",
      "\u001b[1m469/469\u001b[0m \u001b[32m━━━━━━━━━━━━━━━━━━━━\u001b[0m\u001b[37m\u001b[0m \u001b[1m10s\u001b[0m 13ms/step - accuracy: 0.9982 - loss: 0.0052 - val_accuracy: 0.9879 - val_loss: 0.0491 - learning_rate: 3.1250e-05\n",
      "Epoch 14/100\n",
      "\u001b[1m469/469\u001b[0m \u001b[32m━━━━━━━━━━━━━━━━━━━━\u001b[0m\u001b[37m\u001b[0m \u001b[1m7s\u001b[0m 14ms/step - accuracy: 0.9980 - loss: 0.0055 - val_accuracy: 0.9878 - val_loss: 0.0492 - learning_rate: 3.1250e-05\n",
      "Epoch 15/100\n",
      "\u001b[1m469/469\u001b[0m \u001b[32m━━━━━━━━━━━━━━━━━━━━\u001b[0m\u001b[37m\u001b[0m \u001b[1m6s\u001b[0m 13ms/step - accuracy: 0.9985 - loss: 0.0047 - val_accuracy: 0.9878 - val_loss: 0.0491 - learning_rate: 3.1250e-05\n",
      "Epoch 16/100\n",
      "\u001b[1m469/469\u001b[0m \u001b[32m━━━━━━━━━━━━━━━━━━━━\u001b[0m\u001b[37m\u001b[0m \u001b[1m10s\u001b[0m 14ms/step - accuracy: 0.9989 - loss: 0.0039 - val_accuracy: 0.9876 - val_loss: 0.0492 - learning_rate: 3.1250e-05\n",
      "Epoch 17/100\n",
      "\u001b[1m469/469\u001b[0m \u001b[32m━━━━━━━━━━━━━━━━━━━━\u001b[0m\u001b[37m\u001b[0m \u001b[1m0s\u001b[0m 12ms/step - accuracy: 0.9986 - loss: 0.0044\n",
      "Epoch 17: ReduceLROnPlateau reducing learning rate to 1.5625000742147677e-05.\n",
      "\u001b[1m469/469\u001b[0m \u001b[32m━━━━━━━━━━━━━━━━━━━━\u001b[0m\u001b[37m\u001b[0m \u001b[1m6s\u001b[0m 13ms/step - accuracy: 0.9986 - loss: 0.0044 - val_accuracy: 0.9876 - val_loss: 0.0497 - learning_rate: 3.1250e-05\n"
     ]
    }
   ],
   "source": [
    "from tensorflow.keras.callbacks import EarlyStopping, ReduceLROnPlateau\n",
    "\n",
    "callbacks = [\n",
    "    EarlyStopping(patience=10, restore_best_weights=True),\n",
    "    ReduceLROnPlateau(monitor='val_loss', factor=0.5, patience=5, verbose=1)\n",
    "]\n",
    "\n",
    "history = model.fit(\n",
    "    train_images, train_labels,\n",
    "    epochs=100,\n",
    "    batch_size=128,\n",
    "    validation_data=(test_images, test_labels),\n",
    "    callbacks=callbacks\n",
    ")"
   ]
  },
  {
   "cell_type": "code",
   "execution_count": 31,
   "id": "af6d99de",
   "metadata": {},
   "outputs": [
    {
     "name": "stdout",
     "output_type": "stream",
     "text": [
      "\u001b[1m313/313\u001b[0m \u001b[32m━━━━━━━━━━━━━━━━━━━━\u001b[0m\u001b[37m\u001b[0m \u001b[1m1s\u001b[0m 3ms/step - accuracy: 0.9839 - loss: 0.0651\n",
      "\n",
      "Test accuracy: 0.9873\n"
     ]
    }
   ],
   "source": [
    "test_loss, test_acc = model.evaluate(test_images, test_labels)\n",
    "print(f\"\\nTest accuracy: {test_acc:.4f}\")"
   ]
  },
  {
   "cell_type": "code",
   "execution_count": 32,
   "id": "3a314fee",
   "metadata": {},
   "outputs": [
    {
     "data": {
      "image/png": "[encoded data removed]",
      "text/plain": [
       "<Figure size 1000x400 with 2 Axes>"
      ]
     },
     "metadata": {},
     "output_type": "display_data"
    }
   ],
   "source": [
    "# Plot training history\n",
    "plt.figure(figsize=(10, 4))\n",
    "plt.subplot(1, 2, 1)\n",
    "plt.plot(history.history['accuracy'], label='Train Accuracy')\n",
    "plt.plot(history.history['val_accuracy'], label='Validation Accuracy')\n",
    "plt.title('Accuracy')\n",
    "plt.legend()\n",
    "\n",
    "plt.subplot(1, 2, 2)\n",
    "plt.plot(history.history['loss'], label='Train Loss')\n",
    "plt.plot(history.history['val_loss'], label='Validation Loss')\n",
    "plt.title('Loss')\n",
    "plt.legend()\n",
    "plt.tight_layout()\n",
    "plt.show()"
   ]
  },
  {
   "cell_type": "code",
   "execution_count": 33,
   "id": "1e37b6a3",
   "metadata": {
    "scrolled": true
   },
   "outputs": [
    {
     "name": "stdout",
     "output_type": "stream",
     "text": [
      "\u001b[1m313/313\u001b[0m \u001b[32m━━━━━━━━━━━━━━━━━━━━\u001b[0m\u001b[37m\u001b[0m \u001b[1m1s\u001b[0m 3ms/step\n"
     ]
    },
    {
     "data": {
      "image/png": "[encoded data removed]",
      "text/plain": [
       "<Figure size 1000x1000 with 25 Axes>"
      ]
     },
     "metadata": {},
     "output_type": "display_data"
    }
   ],
   "source": [
    "# Make predictions and visualize\n",
    "predictions = model.predict(test_images)\n",
    "plt.figure(figsize=(10, 10))\n",
    "for i in range(25):\n",
    "    plt.subplot(5, 5, i+1)\n",
    "    plt.imshow(test_images[i].reshape(28, 28), cmap='gray')\n",
    "    pred_label = np.argmax(predictions[i])\n",
    "    true_label = test_labels[i]\n",
    "    color = 'green' if pred_label == true_label else 'red'\n",
    "    plt.title(f\"Pred: {pred_label}\\nTrue: {true_label}\", color=color)\n",
    "    plt.axis('off')\n",
    "plt.tight_layout()\n",
    "plt.show()"
   ]
  },
  {
   "cell_type": "code",
   "execution_count": null,
   "id": "f423a7a0",
   "metadata": {},
   "outputs": [],
   "source": []
  },
  {
   "cell_type": "code",
   "execution_count": null,
   "id": "6fed3448",
   "metadata": {},
   "outputs": [],
   "source": []
  },
  {
   "cell_type": "code",
   "execution_count": null,
   "id": "df8df362",
   "metadata": {},
   "outputs": [],
   "source": []
  },
  {
   "cell_type": "code",
   "execution_count": null,
   "id": "920d61c1",
   "metadata": {},
   "outputs": [],
   "source": []
  }
 ],
 "metadata": {
  "kernelspec": {
   "display_name": "Python 3 (ipykernel)",
   "language": "python",
   "name": "python3"
  },
  "language_info": {
   "codemirror_mode": {
    "name": "ipython",
    "version": 3
   },
   "file_extension": ".py",
   "mimetype": "text/x-python",
   "name": "python",
   "nbconvert_exporter": "python",
   "pygments_lexer": "ipython3",
   "version": "3.10.10"
  }
 },
 "nbformat": 4,
 "nbformat_minor": 5
}
